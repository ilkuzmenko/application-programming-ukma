{
 "cells": [
  {
   "cell_type": "code",
   "execution_count": 6,
   "id": "825bea96",
   "metadata": {},
   "outputs": [],
   "source": [
    "with open(\"Test_files/Test11.txt\", 'r', encoding='utf8') as file:\n",
    "    lines = file.readlines()\n",
    "\n",
    "arr = []\n",
    " \n",
    "for l in lines:\n",
    "    arr.append(l)"
   ]
  },
  {
   "cell_type": "code",
   "execution_count": 7,
   "id": "642f313c",
   "metadata": {},
   "outputs": [],
   "source": [
    "new_arr = []\n",
    "delete = False\n",
    "\n",
    "for i in arr:\n",
    "    if i.find('\"') < i.find('//') < i.rfind('\"'):\n",
    "        pass\n",
    "    elif i.find('//') != -1:\n",
    "        i = i[:i.find('//')] + '\\n'\n",
    "    \n",
    "    if i.find('\"') < i.find('/*') < i.rfind('\"'):\n",
    "        pass\n",
    "    elif i.find('/*') != -1 and i.find('*/') != -1:\n",
    "        i = i[:i.find('/*')] + i[i.find('*/') + 3:]\n",
    "    elif i.find('/*') != -1:\n",
    "        i = ''\n",
    "        delete = True\n",
    "    elif i.find('*/') != -1:\n",
    "        i = ''\n",
    "        delete = False\n",
    "    elif delete:\n",
    "        i = ''\n",
    "    \n",
    "    new_arr.append(i)"
   ]
  },
  {
   "cell_type": "code",
   "execution_count": 8,
   "id": "2041e884",
   "metadata": {},
   "outputs": [],
   "source": [
    "with open('Res11.txt', 'w', encoding='utf-8') as f:\n",
    "    for i in new_arr:\n",
    "        f.write(i)"
   ]
  }
 ],
 "metadata": {
  "kernelspec": {
   "display_name": "Python 3",
   "language": "python",
   "name": "python3"
  },
  "language_info": {
   "codemirror_mode": {
    "name": "ipython",
    "version": 3
   },
   "file_extension": ".py",
   "mimetype": "text/x-python",
   "name": "python",
   "nbconvert_exporter": "python",
   "pygments_lexer": "ipython3",
   "version": "3.8.8"
  }
 },
 "nbformat": 4,
 "nbformat_minor": 5
}
