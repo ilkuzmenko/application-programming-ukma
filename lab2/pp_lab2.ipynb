{
 "cells": [
  {
   "cell_type": "code",
   "execution_count": 1,
   "id": "1f44b2da",
   "metadata": {
    "scrolled": true
   },
   "outputs": [],
   "source": [
    "import numpy as np\n",
    "import matplotlib.pyplot as plt\n",
    "from matplotlib.pyplot import figure\n",
    "from itertools import combinations"
   ]
  },
  {
   "cell_type": "code",
   "execution_count": 2,
   "id": "d3b6eada",
   "metadata": {},
   "outputs": [],
   "source": [
    "with open('Test_files/test22_1.txt', 'r', encoding='utf8') as file:\n",
    "    lines = file.readlines()\n",
    "\n",
    "arr = []\n",
    "    \n",
    "for l in lines:\n",
    "    arr.append(l.split())\n",
    "\n",
    "A = list(map(int, arr[0]))\n",
    "B = list(map(int, arr[1]))\n",
    "C = list(map(int, arr[2]))\n",
    "D = list(map(int, arr[3]))"
   ]
  },
  {
   "cell_type": "code",
   "execution_count": 3,
   "id": "b811867e",
   "metadata": {},
   "outputs": [],
   "source": [
    "def intersection(s1, s2):\n",
    "    p, r = s1[0], s1[1] - s1[0]\n",
    "    q, s = s2[0], s2[1] - s2[0]\n",
    "    rxs = float(np.cross(r, s))\n",
    "    if rxs == 0: return None\n",
    "    t = np.cross(q - p, s) / rxs\n",
    "    u = np.cross(q - p, r) / rxs\n",
    "    if 0 < t < 1 and 0 < u < 1:\n",
    "        return p + t * r\n",
    "    return None\n",
    "\n",
    "def convex_quadrilaterals(points):\n",
    "    segments = combinations(points, 2)\n",
    "    \n",
    "    for s1, s2 in combinations(segments, 2):\n",
    "        if intersection(s1, s2) is not None:\n",
    "            yield s1, s2"
   ]
  },
  {
   "cell_type": "code",
   "execution_count": 4,
   "id": "7b2420a8",
   "metadata": {},
   "outputs": [],
   "source": [
    "points = map(np.array, [(A[0], A[1]), (B[0], B[1]), (C[0], C[1]), (D[0], D[1])])\n",
    "AB = (B[0] - A[0]) * (-0.2727272727272727 - A[1]) - (0.2727272727272727 - A[0]) * (B[1] - A[1])\n",
    "BC = (C[0] - B[0]) * (-0.2727272727272727 - B[1]) - (0.2727272727272727 - B[0]) * (C[1] - B[1])\n",
    "CD = (D[0] - C[0]) * (-0.2727272727272727 - C[1]) - (0.2727272727272727 - C[0]) * (D[1] - C[1])\n",
    "DA = (A[0] - D[0]) * (-0.2727272727272727 - D[1]) - (0.2727272727272727 - D[0]) * (A[1] - D[1])\n",
    "lenght = len(list(convex_quadrilaterals(points)))"
   ]
  },
  {
   "cell_type": "code",
   "execution_count": 5,
   "id": "42193008",
   "metadata": {
    "scrolled": true
   },
   "outputs": [
    {
     "data": {
      "image/png": "[encoded data removed]",
      "text/plain": [
       "<Figure size 432x288 with 1 Axes>"
      ]
     },
     "metadata": {
      "needs_background": "light"
     },
     "output_type": "display_data"
    }
   ],
   "source": [
    "plt.plot((A[0], B[0]), (A[1], B[1]), label = 'AB')\n",
    "plt.plot((B[0], C[0]), (B[1], C[1]), label = 'BC')\n",
    "plt.plot((C[0], D[0]), (C[1], D[1]), label = 'CD')\n",
    "plt.plot((D[0], A[0]), (D[1], A[1]), label = 'DA')\n",
    "plt.plot((A[0], C[0]), (A[1], C[1]), marker = 'o', label = 'A-C', color=\"black\")\n",
    "plt.plot((D[0], B[0]), (D[1], B[1]), marker = 'o', label = 'D-B', color=\"black\")\n",
    "plt.legend()\n",
    "plt.show()"
   ]
  },
  {
   "cell_type": "code",
   "execution_count": 6,
   "id": "9136ffed",
   "metadata": {},
   "outputs": [
    {
     "name": "stdout",
     "output_type": "stream",
     "text": [
      "Yes\n",
      "No\n",
      "Yes\n"
     ]
    }
   ],
   "source": [
    "if AB == 0 or BC == 0 or CD == 0 or DA == 0:\n",
    "    #   НЕ чотирикутник\n",
    "    print('No')\n",
    "    print('No')\n",
    "    print('No')\n",
    "else:\n",
    "    print('Yes')\n",
    "    if lenght == 1:\n",
    "    #   опуклий чотирикутник\n",
    "        print('Yes')\n",
    "    else:\n",
    "        print('No')\n",
    "    if lenght == 0:\n",
    "    #   неопуклий чотирикутник\n",
    "        print('Yes')\n",
    "    else:\n",
    "        print('No')"
   ]
  }
 ],
 "metadata": {
  "kernelspec": {
   "display_name": "Python 3",
   "language": "python",
   "name": "python3"
  },
  "language_info": {
   "codemirror_mode": {
    "name": "ipython",
    "version": 3
   },
   "file_extension": ".py",
   "mimetype": "text/x-python",
   "name": "python",
   "nbconvert_exporter": "python",
   "pygments_lexer": "ipython3",
   "version": "3.8.8"
  }
 },
 "nbformat": 4,
 "nbformat_minor": 5
}
